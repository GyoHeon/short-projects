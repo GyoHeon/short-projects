{
 "cells": [
  {
   "cell_type": "markdown",
   "metadata": {},
   "source": [
    "# 미래 개체수 예상"
   ]
  },
  {
   "cell_type": "code",
   "execution_count": 8,
   "metadata": {},
   "outputs": [],
   "source": [
    "cre = {'f':3, 'm':3, 'f_j':6,'m_j':0, 'f_bb':2, 'm_bb':3, 'b':10, 'time':21.5}\n",
    "\n",
    "def year(f, m):\n",
    "    if m*3 <= f:\n",
    "        return m*3 * 6\n",
    "    else:\n",
    "        return f * 6\n",
    "    \n",
    "# 6개월 후\n",
    "def future(time):\n",
    "    for i in range(time):\n",
    "        new = year(cre['f'], cre['m'])\n",
    "        cre['f'] += cre['f_j']\n",
    "        cre['m'] += cre['m_j']\n",
    "        cre['f_j'] = cre['f_bb']\n",
    "        cre['m_j'] = cre['m_bb']\n",
    "        cre['f_bb'] = cre['b']//2\n",
    "        cre['m_bb'] = cre['b']//2\n",
    "        cre['b'] = new\n",
    "        cre['time'] += 0.5"
   ]
  },
  {
   "cell_type": "code",
   "execution_count": 13,
   "metadata": {},
   "outputs": [
    {
     "data": {
      "text/plain": [
       "{'f': 52,\n",
       " 'm': 47,\n",
       " 'f_j': 33,\n",
       " 'm_j': 33,\n",
       " 'f_bb': 48,\n",
       " 'm_bb': 48,\n",
       " 'b': 150,\n",
       " 'time': 24.0}"
      ]
     },
     "execution_count": 13,
     "metadata": {},
     "output_type": "execute_result"
    }
   ],
   "source": [
    "future(1)\n",
    "cre"
   ]
  },
  {
   "cell_type": "markdown",
   "metadata": {},
   "source": [
    "# 해칭일 계산"
   ]
  },
  {
   "cell_type": "code",
   "execution_count": 1,
   "metadata": {},
   "outputs": [],
   "source": [
    "import datetime\n",
    "\n",
    "def time(x):\n",
    "    return int(60+(25-x)*10)\n",
    "\n",
    "def hatching(x, y, m, d):\n",
    "    day = datetime.datetime(y, m, d)\n",
    "    a = datetime.timedelta(days = time(x))\n",
    "    a_p = datetime.timedelta(days = int(time(x) * 0.1))\n",
    "    m = day + a\n",
    "    return [m - a_p ,m, m + a_p]"
   ]
  },
  {
   "cell_type": "code",
   "execution_count": 2,
   "metadata": {},
   "outputs": [],
   "source": [
    "s= hatching(22.5, 2021, 10, 5)"
   ]
  },
  {
   "cell_type": "code",
   "execution_count": 3,
   "metadata": {},
   "outputs": [
    {
     "name": "stdout",
     "output_type": "stream",
     "text": [
      "2021 년 12 월 21 일\n",
      "~\n",
      "2021 년 12 월 29 일\n",
      "~\n",
      "2022 년 1 월 6 일\n"
     ]
    }
   ],
   "source": [
    "print(s[0].year, '년',\n",
    "      s[0].month, '월', \n",
    "      s[0].day, '일')\n",
    "\n",
    "print('~')\n",
    "\n",
    "print(s[1].year, '년',\n",
    "      s[1].month, '월', \n",
    "      s[1].day, '일')\n",
    "\n",
    "print('~')\n",
    "\n",
    "print(s[2].year, '년',\n",
    "      s[2].month, '월', \n",
    "      s[2].day, '일')"
   ]
  }
 ],
 "metadata": {
  "kernelspec": {
   "display_name": "Python 3",
   "language": "python",
   "name": "python3"
  },
  "language_info": {
   "codemirror_mode": {
    "name": "ipython",
    "version": 3
   },
   "file_extension": ".py",
   "mimetype": "text/x-python",
   "name": "python",
   "nbconvert_exporter": "python",
   "pygments_lexer": "ipython3",
   "version": "3.8.8"
  }
 },
 "nbformat": 4,
 "nbformat_minor": 4
}
